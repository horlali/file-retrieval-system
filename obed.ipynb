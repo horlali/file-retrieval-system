{
  "cells": [
    {
      "cell_type": "markdown",
      "metadata": {
        "id": "SkdjlQVx95Me"
      },
      "source": [
        "# Assignment: Coursework I\n",
        "## Group 8\n",
        "1. Maxwell Sarpong (10935738)\n",
        "2. Clemence Ayekple (10936515)\n",
        "3. Sarah Quaye (10937270)\n",
        "4. Allan Philip Barku (10936490)\n",
        "5. Bernard Zottorvi (10938772)\n",
        "6. Dodzi Kwame Kumah(10936281)\n",
        "7. Kassah Machel Sedinam(10932715)\n"
      ]
    },
    {
      "cell_type": "markdown",
      "metadata": {
        "id": "P82mm0WP98jE"
      },
      "source": [
        "## 1 A. File Retrieval Exercise 5 Marks\n",
        "Write a Java code or any relevant programming code using Remote Method Invocation (RMI) system,  which retrieves a file specified by a Client from the Server. You are expected to follow the following general steps when using the Java RMI or Python Remote Object (Pyro4).\n",
        "> a) Writing the required remote interface 1 Mark\n",
        "\n",
        "> b) Implementing the interface 1 Mark\n",
        "\n",
        "> c) Creating stub and skeleton (Compiling remote interface and its implementation) 1 Mark\n",
        "\n",
        "> d) Starting the registry mechanism\n",
        "\n",
        "> e) Writing the main Client and Server programs 1 Mark\n",
        "\n",
        "> f) Execution of the Client and Server to show the required output 1 Mark\n",
        "\n",
        "The contents of the retrieved file may be saved in another file or may be printed on the screen.\n"
      ]
    },
    {
      "cell_type": "code",
      "execution_count": null,
      "metadata": {
        "colab": {
          "base_uri": "https://localhost:8080/"
        },
        "id": "S120bBX5Bmeh",
        "outputId": "69ad8b34-f4c4-4320-a962-9dbff212ed4f"
      },
      "outputs": [
        {
          "name": "stdout",
          "output_type": "stream",
          "text": [
            "Looking in indexes: https://pypi.org/simple, https://us-python.pkg.dev/colab-wheels/public/simple/\n",
            "Collecting Pyro4\n",
            "  Downloading Pyro4-4.82-py2.py3-none-any.whl (89 kB)\n",
            "\u001b[2K     \u001b[90m━━━━━━━━━━━━━━━━━━━━━━━━━━━━━━━━━━━━━━━━\u001b[0m \u001b[32m90.0/90.0 kB\u001b[0m \u001b[31m3.5 MB/s\u001b[0m eta \u001b[36m0:00:00\u001b[0m\n",
            "\u001b[?25hCollecting serpent>=1.27 (from Pyro4)\n",
            "  Downloading serpent-1.41-py3-none-any.whl (9.6 kB)\n",
            "Installing collected packages: serpent, Pyro4\n",
            "Successfully installed Pyro4-4.82 serpent-1.41\n",
            "Looking in indexes: https://pypi.org/simple, https://us-python.pkg.dev/colab-wheels/public/simple/\n",
            "Requirement already satisfied: rsa in /usr/local/lib/python3.10/dist-packages (4.9)\n",
            "Requirement already satisfied: pyasn1>=0.1.3 in /usr/local/lib/python3.10/dist-packages (from rsa) (0.5.0)\n"
          ]
        }
      ],
      "source": [
        "%pip install Pyro4\n",
        "%pip install rsa"
      ]
    },
    {
      "cell_type": "code",
      "execution_count": null,
      "metadata": {
        "id": "q59gaPzeJxfe"
      },
      "outputs": [],
      "source": [
        "# importing Pyro4 library\n",
        "import Pyro4\n",
        "import Pyro4.util"
      ]
    },
    {
      "cell_type": "code",
      "execution_count": null,
      "metadata": {
        "id": "Bcx4EMdSjRJ6"
      },
      "outputs": [],
      "source": [
        "# remote interface\n",
        "class StudentGradeInterface:\n",
        "    def list_all_grades(self) -> dict:\n",
        "        pass\n",
        "\n",
        "    def retrieve_single_grade(self, name, student_id) -> str:\n",
        "        pass\n"
      ]
    },
    {
      "cell_type": "code",
      "execution_count": null,
      "metadata": {
        "colab": {
          "base_uri": "https://localhost:8080/"
        },
        "id": "3uNwNRaN9xbD",
        "outputId": "40594b35-b6d0-4b83-91e4-60a04811b554"
      },
      "outputs": [
        {
          "name": "stdout",
          "output_type": "stream",
          "text": [
            "Object <class '__main__.StudentGrade'>:\n",
            "    uri = PYRO:example.studentgrade@localhost:37389\n",
            "Pyro daemon running.\n"
          ]
        }
      ],
      "source": [
        "# server side with the implemention of the interface\n",
        "\n",
        "@Pyro4.expose\n",
        "@Pyro4.behavior(instance_mode=\"single\")\n",
        "class StudentGrade(StudentGradeInterface):\n",
        "    def __init__(self):\n",
        "        self.contents = [{\"student_id\": 109864, \"name\": \"John Doe\", \"grades\": {\n",
        "            \"Maths\": \"A\", \"Science\": \"C\"}}, {\"student_id\": 109764, \"name\": \"Peter Adjei\", \"grades\": {\n",
        "                \"Maths\": \"A\", \"Science\": \"A\"}}, {\"student_id\": 109863, \"name\": \"Larry Bell\", \"grades\": {\n",
        "                    \"Maths\": \"C\", \"Science\": \"B\"}}]\n",
        "\n",
        "    def list_all_grades(self) -> dict:\n",
        "        return self.contents\n",
        "\n",
        "    def retrieve_single_grade(self, name, item) -> str:\n",
        "        next(\n",
        "            (grade for grade in self.contents if grade[\"student_id\"] == item), False)\n",
        "        print(\"{0} retrieved grade for {1}.\".format(name, item))\n",
        "\n",
        "\n",
        "def main():\n",
        "    Pyro4.Daemon.serveSimple(\n",
        "        {\n",
        "            StudentGrade: \"example.studentgrade\"\n",
        "        }, ns=False)\n",
        "\n",
        "\n",
        "if __name__ == \"__main__\":\n",
        "    main()\n"
      ]
    },
    {
      "cell_type": "code",
      "execution_count": null,
      "metadata": {
        "id": "t1CaQtmUAd_z"
      },
      "outputs": [],
      "source": [
        "# client side\n",
        "\n",
        "class Student(object):\n",
        "    def __init__(self, name):\n",
        "        self.name = name\n",
        "\n",
        "    def grades(self, studentgrade):\n",
        "        print(\"This is {0}.\".format(self.name))\n",
        "        self.retrieve(studentgrade)\n",
        "        print(\"Thank you, come again!\")\n",
        "\n",
        "\n",
        "    def retrieve(self, studentgrade):\n",
        "        print(\"The student grades:\", studentgrade.list_all_grades())\n",
        "        item = input(\"Enter student id: \").strip()\n",
        "        if item:\n",
        "            studentgrade.retrieve_single_grade(self.name, item)\n"
      ]
    },
    {
      "cell_type": "code",
      "execution_count": null,
      "metadata": {
        "id": "pKR2MaCyAm9q"
      },
      "outputs": [],
      "source": [
        "uri = input(\"Enter the uri of the grade: \").strip()\n",
        "grade = Pyro4.Proxy(uri)\n",
        "janet = Student(\"Janet\")\n",
        "janet.grades(grade)"
      ]
    },
    {
      "cell_type": "markdown",
      "metadata": {
        "id": "thZPQnwWeXS8"
      },
      "source": [
        "Enter the uri of the grade: PYRO:example.studentgrade@localhost:60219\n",
        "\n",
        "This is Janet.\n",
        "\n",
        "The student grades: [{'student_id': 109864, 'name': 'John Doe', 'grades': {'Maths': 'A', 'Science': 'C'}}, {'student_id': 109764, 'name': 'Peter Adjei', 'grades': {'Maths': 'A', 'Science': 'A'}}, {'student_id': 109863, 'name': 'Larry Bell', 'grades': {'Maths': 'C', 'Science': 'B'}}]\n",
        "\n",
        "Enter student id: 109863\n",
        "\n",
        "Thank you, come again!"
      ]
    },
    {
      "cell_type": "markdown",
      "metadata": {
        "id": "PJL_PhfsIkf1"
      },
      "source": [
        "## 1 B. Secure File Retrieval Exercise 15 Marks\n",
        "\n",
        "Modify the code of the exercise 1A and include additional code wherever appropriate so that, the interaction between the Client and Server is secure. Along with RMISecurityManager, use RSA encryption algorithm to generate the digital signature and for secure Client authentication. The following steps are expected and evaluated as shown.\n",
        "> a) Creating a key store and generating a pair of public and private keys 3 Marks\n",
        "\n",
        "> b) Exporting a digital certificate for the above key into a file 2 Marks\n",
        "\n",
        "> c) Creating a trust store and import the certificate as a trusted certificate 3 Marks\n",
        "\n",
        ">d) Execution of the final program and presentation 5 Marks\n",
        "\n",
        "The contents of the retrieved file may be saved in another file or may be printed on the screen. Upon program execution you are required to explain briefly all the key in-built classes and methods used to\n",
        "implement. 2 Marks\n",
        "\n",
        "Q. What changes are required to implement the above program in a physical network rather than a single machine?"
      ]
    },
    {
      "cell_type": "code",
      "execution_count": null,
      "metadata": {
        "id": "QeJgmcHVJFtE"
      },
      "outputs": [],
      "source": [
        "#importing the rsa library\n",
        "import rsa"
      ]
    },
    {
      "cell_type": "code",
      "execution_count": null,
      "metadata": {
        "id": "rgqa7X6PO7L6"
      },
      "outputs": [],
      "source": [
        "# generating public and private keys using the rsa library\n",
        "def generate_keys():\n",
        "    (publicKey, privateKey) = rsa.newkeys(1024)\n",
        "    with open('keys/publicKey.pem', 'wb') as p:\n",
        "        p.write(publicKey.save_pkcs1('PEM'))\n",
        "    with open('keys/privateKey.pem', 'wb') as p:\n",
        "        p.write(privateKey.save_pkcs1('PEM'))"
      ]
    },
    {
      "cell_type": "code",
      "execution_count": null,
      "metadata": {
        "id": "10QUmLV1QdtH"
      },
      "outputs": [],
      "source": [
        "#load the encryption key\n",
        "def load_keys():\n",
        "    with open('keys/publicKey.pem', 'rb') as p:\n",
        "        publicKey = rsa.PublicKey.load_pkcs1(p.read())\n",
        "    with open('keys/privateKey.pem', 'rb') as p:\n",
        "        privateKey = rsa.PrivateKey.load_pkcs1(p.read())\n",
        "    return privateKey, publicKey"
      ]
    },
    {
      "cell_type": "code",
      "execution_count": null,
      "metadata": {
        "id": "2cliiNrOQyoA"
      },
      "outputs": [],
      "source": [
        "# encrypting the message\n",
        "def encrypt(message, key):\n",
        "    return rsa.encrypt(message.encode('ascii'), key)\n",
        "\n",
        "# decrypting the message\n",
        "def decrypt(ciphertext, key):\n",
        "    try:\n",
        "        return rsa.decrypt(ciphertext, key).decode('ascii')\n",
        "    except:\n",
        "        return False\n",
        "\n",
        "# signing the message\n",
        "def sign(message, key):\n",
        "    return rsa.sign(message.encode('ascii'), key, 'SHA-1')\n",
        "\n",
        "# verying the message\n",
        "def verify(message, signature, key):\n",
        "    try:\n",
        "        return rsa.verify(message.encode('ascii'), signature, key,) == 'SHA-1'\n",
        "    except:\n",
        "        return False"
      ]
    },
    {
      "cell_type": "code",
      "execution_count": null,
      "metadata": {
        "id": "cso5MC6dXUZj"
      },
      "outputs": [],
      "source": [
        "generate_keys()\n",
        "publicKey, privateKey =load_keys()"
      ]
    },
    {
      "cell_type": "code",
      "execution_count": null,
      "metadata": {
        "id": "1uQ8u9InjMjy"
      },
      "outputs": [],
      "source": [
        "#server side modification\n",
        "@Pyro4.expose\n",
        "@Pyro4.behavior(instance_mode=\"single\")\n",
        "class StudentGrade(StudentGradeInterface):\n",
        "    def __init__(self):\n",
        "        self.contents = [{\"student_id\": 109864, \"name\": \"John Doe\", \"grades\": {\n",
        "            \"Maths\": \"A\", \"Science\": \"C\"}}, {\"student_id\": 109764, \"name\": \"Peter Adjei\", \"grades\": {\n",
        "                \"Maths\": \"A\", \"Science\": \"A\"}}, {\"student_id\": 109863, \"name\": \"Larry Bell\", \"grades\": {\n",
        "                    \"Maths\": \"C\", \"Science\": \"B\"}}]\n",
        "\n",
        "    def list_all_grades(self) -> dict:\n",
        "        return self.contents\n",
        "\n",
        "    def retrieve_single_grade(self, name, item) -> str:\n",
        "        grade = next(\n",
        "            (grade for grade in self.contents if grade[\"student_id\"] == item), False\n",
        "            )\n",
        "        #encrypting and creating a digital signature\n",
        "        ciphertext = encrypt(grade, publicKey)\n",
        "        signature = sign(grade, privateKey)\n",
        "        print(\"{0} retrieved grade for {1}.\".format(name, item))\n",
        "\n",
        "\n",
        "def main():\n",
        "    Pyro4.Daemon.serveSimple(\n",
        "        {\n",
        "            StudentGrade: \"example.studentgrade\"\n",
        "        }, ns=False)\n",
        "\n",
        "\n",
        "if __name__ == \"__main__\":\n",
        "    main()"
      ]
    },
    {
      "cell_type": "code",
      "execution_count": null,
      "metadata": {
        "id": "xM_aUTpykT6r"
      },
      "outputs": [],
      "source": [
        "#client side modification\n",
        "class Student(object):\n",
        "    def __init__(self, name):\n",
        "        self.name = name\n",
        "\n",
        "    def grades(self, studentgrade):\n",
        "        print(\"This is {0}.\".format(self.name))\n",
        "        self.retrieve(studentgrade)\n",
        "        text = decrypt(studentgrade, privateKey)\n",
        "        print(\"Thank you, come again!\")\n",
        "\n",
        "\n",
        "    def retrieve(self, studentgrade):\n",
        "        print(\"The student grades:\", studentgrade.list_all_grades())\n",
        "        item = input(\"Enter student id: \").strip()\n",
        "        if item:\n",
        "            studentgrade.retrieve_single_grade(self.name, item)"
      ]
    },
    {
      "cell_type": "markdown",
      "metadata": {
        "id": "uX8WBERxfJrR"
      },
      "source": [
        "**Q. What changes are required to implement the above program in a physical network rather than a single machine?**\n",
        "\n",
        "Pyro runs on localhost by default. To access it on a different machine you will need to tell Pyro to do that explicitly.\n",
        "\n",
        "This can be done in the console as shown below:\n",
        "\n",
        "    $ python -m Pyro4.naming -n your_hostname # i.e. your_hostname = “192.168.10.9”\n",
        "\n",
        "or simply:\n",
        "\n",
        "    $ pyro4-ns -n your_hostname\n",
        "\n",
        "This can also be implemented in the code by specifying it in the models below:\n",
        "\n",
        "Pyro4.config.HOST = \"your_hostname_here\"\n",
        "Pyro4.Daemon.serveSimple(...)\n",
        "\n",
        "Optionally, you can set PYRO_HOST environment variable before starting the server side of the application. Another choice is to pass the required host (and perhaps even port) arguments to serveSimple:\n",
        "\n",
        "Pyro4.Daemon.serveSimple(\n",
        "        {\n",
        "            Warehouse: \"example.warehouse\"\n",
        "        },\n",
        "        host = 'your_hostname_here',\n",
        "        ns = True)\n",
        "\n"
      ]
    }
  ],
  "metadata": {
    "colab": {
      "provenance": []
    },
    "kernelspec": {
      "display_name": "Python 3",
      "name": "python3"
    },
    "language_info": {
      "name": "python"
    }
  },
  "nbformat": 4,
  "nbformat_minor": 0
}
